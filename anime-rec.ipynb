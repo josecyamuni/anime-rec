{
 "cells": [
  {
   "cell_type": "code",
   "execution_count": 1,
   "id": "7b1d7b4a",
   "metadata": {},
   "outputs": [],
   "source": [
    "import pandas as pd\n",
    "import numpy as np"
   ]
  },
  {
   "cell_type": "code",
   "execution_count": 2,
   "id": "a3a71ad5",
   "metadata": {},
   "outputs": [],
   "source": [
    "users_score = pd.read_csv('data/users-score-2023.csv')"
   ]
  },
  {
   "cell_type": "code",
   "execution_count": 3,
   "id": "6918c268",
   "metadata": {},
   "outputs": [
    {
     "data": {
      "text/html": [
       "<div>\n",
       "<style scoped>\n",
       "    .dataframe tbody tr th:only-of-type {\n",
       "        vertical-align: middle;\n",
       "    }\n",
       "\n",
       "    .dataframe tbody tr th {\n",
       "        vertical-align: top;\n",
       "    }\n",
       "\n",
       "    .dataframe thead th {\n",
       "        text-align: right;\n",
       "    }\n",
       "</style>\n",
       "<table border=\"1\" class=\"dataframe\">\n",
       "  <thead>\n",
       "    <tr style=\"text-align: right;\">\n",
       "      <th></th>\n",
       "      <th>user_id</th>\n",
       "      <th>Username</th>\n",
       "      <th>anime_id</th>\n",
       "      <th>Anime Title</th>\n",
       "      <th>rating</th>\n",
       "    </tr>\n",
       "  </thead>\n",
       "  <tbody>\n",
       "    <tr>\n",
       "      <th>0</th>\n",
       "      <td>1</td>\n",
       "      <td>Xinil</td>\n",
       "      <td>21</td>\n",
       "      <td>One Piece</td>\n",
       "      <td>9</td>\n",
       "    </tr>\n",
       "    <tr>\n",
       "      <th>1</th>\n",
       "      <td>1</td>\n",
       "      <td>Xinil</td>\n",
       "      <td>48</td>\n",
       "      <td>.hack//Sign</td>\n",
       "      <td>7</td>\n",
       "    </tr>\n",
       "    <tr>\n",
       "      <th>2</th>\n",
       "      <td>1</td>\n",
       "      <td>Xinil</td>\n",
       "      <td>320</td>\n",
       "      <td>A Kite</td>\n",
       "      <td>5</td>\n",
       "    </tr>\n",
       "    <tr>\n",
       "      <th>3</th>\n",
       "      <td>1</td>\n",
       "      <td>Xinil</td>\n",
       "      <td>49</td>\n",
       "      <td>Aa! Megami-sama!</td>\n",
       "      <td>8</td>\n",
       "    </tr>\n",
       "    <tr>\n",
       "      <th>4</th>\n",
       "      <td>1</td>\n",
       "      <td>Xinil</td>\n",
       "      <td>304</td>\n",
       "      <td>Aa! Megami-sama! Movie</td>\n",
       "      <td>8</td>\n",
       "    </tr>\n",
       "  </tbody>\n",
       "</table>\n",
       "</div>"
      ],
      "text/plain": [
       "   user_id Username  anime_id             Anime Title  rating\n",
       "0        1    Xinil        21               One Piece       9\n",
       "1        1    Xinil        48             .hack//Sign       7\n",
       "2        1    Xinil       320                  A Kite       5\n",
       "3        1    Xinil        49        Aa! Megami-sama!       8\n",
       "4        1    Xinil       304  Aa! Megami-sama! Movie       8"
      ]
     },
     "execution_count": 3,
     "metadata": {},
     "output_type": "execute_result"
    }
   ],
   "source": [
    "users_score.head()"
   ]
  },
  {
   "cell_type": "code",
   "execution_count": 4,
   "id": "76a72902",
   "metadata": {},
   "outputs": [],
   "source": [
    "from sklearn.preprocessing import MinMaxScaler"
   ]
  },
  {
   "cell_type": "code",
   "execution_count": 5,
   "id": "a1d03c17",
   "metadata": {},
   "outputs": [],
   "source": [
    "# scale rating column\n",
    "# Create a MinMaxScaler object\n",
    "scaler = MinMaxScaler(feature_range=(0, 1))\n",
    "\n",
    "# Scale the 'score' column between 0 and 1\n",
    "users_score['scaled_score'] = scaler.fit_transform(users_score[['rating']])"
   ]
  },
  {
   "cell_type": "code",
   "execution_count": 6,
   "id": "7a5d1db8",
   "metadata": {},
   "outputs": [
    {
     "data": {
      "text/html": [
       "<div>\n",
       "<style scoped>\n",
       "    .dataframe tbody tr th:only-of-type {\n",
       "        vertical-align: middle;\n",
       "    }\n",
       "\n",
       "    .dataframe tbody tr th {\n",
       "        vertical-align: top;\n",
       "    }\n",
       "\n",
       "    .dataframe thead th {\n",
       "        text-align: right;\n",
       "    }\n",
       "</style>\n",
       "<table border=\"1\" class=\"dataframe\">\n",
       "  <thead>\n",
       "    <tr style=\"text-align: right;\">\n",
       "      <th></th>\n",
       "      <th>user_id</th>\n",
       "      <th>Username</th>\n",
       "      <th>anime_id</th>\n",
       "      <th>Anime Title</th>\n",
       "      <th>rating</th>\n",
       "      <th>scaled_score</th>\n",
       "    </tr>\n",
       "  </thead>\n",
       "  <tbody>\n",
       "    <tr>\n",
       "      <th>0</th>\n",
       "      <td>1</td>\n",
       "      <td>Xinil</td>\n",
       "      <td>21</td>\n",
       "      <td>One Piece</td>\n",
       "      <td>9</td>\n",
       "      <td>0.888889</td>\n",
       "    </tr>\n",
       "    <tr>\n",
       "      <th>1</th>\n",
       "      <td>1</td>\n",
       "      <td>Xinil</td>\n",
       "      <td>48</td>\n",
       "      <td>.hack//Sign</td>\n",
       "      <td>7</td>\n",
       "      <td>0.666667</td>\n",
       "    </tr>\n",
       "    <tr>\n",
       "      <th>2</th>\n",
       "      <td>1</td>\n",
       "      <td>Xinil</td>\n",
       "      <td>320</td>\n",
       "      <td>A Kite</td>\n",
       "      <td>5</td>\n",
       "      <td>0.444444</td>\n",
       "    </tr>\n",
       "    <tr>\n",
       "      <th>3</th>\n",
       "      <td>1</td>\n",
       "      <td>Xinil</td>\n",
       "      <td>49</td>\n",
       "      <td>Aa! Megami-sama!</td>\n",
       "      <td>8</td>\n",
       "      <td>0.777778</td>\n",
       "    </tr>\n",
       "    <tr>\n",
       "      <th>4</th>\n",
       "      <td>1</td>\n",
       "      <td>Xinil</td>\n",
       "      <td>304</td>\n",
       "      <td>Aa! Megami-sama! Movie</td>\n",
       "      <td>8</td>\n",
       "      <td>0.777778</td>\n",
       "    </tr>\n",
       "  </tbody>\n",
       "</table>\n",
       "</div>"
      ],
      "text/plain": [
       "   user_id Username  anime_id             Anime Title  rating  scaled_score\n",
       "0        1    Xinil        21               One Piece       9      0.888889\n",
       "1        1    Xinil        48             .hack//Sign       7      0.666667\n",
       "2        1    Xinil       320                  A Kite       5      0.444444\n",
       "3        1    Xinil        49        Aa! Megami-sama!       8      0.777778\n",
       "4        1    Xinil       304  Aa! Megami-sama! Movie       8      0.777778"
      ]
     },
     "execution_count": 6,
     "metadata": {},
     "output_type": "execute_result"
    }
   ],
   "source": [
    "users_score.head()"
   ]
  },
  {
   "cell_type": "code",
   "execution_count": 7,
   "id": "795c44f2",
   "metadata": {},
   "outputs": [],
   "source": [
    "from sklearn.preprocessing import LabelEncoder"
   ]
  },
  {
   "cell_type": "code",
   "execution_count": 8,
   "id": "12a024d5",
   "metadata": {},
   "outputs": [],
   "source": [
    "user_encoder = LabelEncoder()\n",
    "users_score[\"user_encoded\"] = user_encoder.fit_transform(users_score['user_id'])"
   ]
  },
  {
   "cell_type": "code",
   "execution_count": 9,
   "id": "f540aeb4",
   "metadata": {},
   "outputs": [],
   "source": [
    "anime_encoder = LabelEncoder()\n",
    "users_score[\"anime_encoded\"] = anime_encoder.fit_transform(users_score[\"anime_id\"])"
   ]
  },
  {
   "cell_type": "code",
   "execution_count": 10,
   "id": "362f548a",
   "metadata": {},
   "outputs": [
    {
     "name": "stdout",
     "output_type": "stream",
     "text": [
      "Unique users: 270033\n",
      "Unique anime: 16500\n"
     ]
    }
   ],
   "source": [
    "num_users = len(user_encoder.classes_)\n",
    "num_anime = len(anime_encoder.classes_)\n",
    "print(f'Unique users: {num_users}')\n",
    "print(f'Unique anime: {num_anime}')"
   ]
  },
  {
   "cell_type": "code",
   "execution_count": 10,
   "id": "9b2c6dd8",
   "metadata": {},
   "outputs": [],
   "source": [
    "import pickle"
   ]
  },
  {
   "cell_type": "code",
   "execution_count": 13,
   "id": "41533f57",
   "metadata": {},
   "outputs": [],
   "source": [
    "# Store encoders in a dictionary\n",
    "encoders = {'user_encoder': user_encoder, 'anime_encoder': anime_encoder}\n",
    "\n",
    "# Save the encoders to a file using pickle\n",
    "with open('encoders.pkl', 'wb') as f:\n",
    "    pickle.dump(encoders, f)"
   ]
  },
  {
   "cell_type": "code",
   "execution_count": 11,
   "id": "3897103a",
   "metadata": {},
   "outputs": [],
   "source": [
    "from sklearn.utils import shuffle"
   ]
  },
  {
   "cell_type": "code",
   "execution_count": 12,
   "id": "369091b8",
   "metadata": {},
   "outputs": [],
   "source": [
    "# Shuffle the dataset\n",
    "df = shuffle(users_score, random_state=100)\n",
    "\n",
    "# Create feature matrix X and target variable y\n",
    "X = df[['user_encoded', 'anime_encoded']].values\n",
    "y = df[\"scaled_score\"].values"
   ]
  },
  {
   "cell_type": "code",
   "execution_count": 13,
   "id": "2807254d",
   "metadata": {},
   "outputs": [],
   "source": [
    "from sklearn.model_selection import train_test_split"
   ]
  },
  {
   "cell_type": "code",
   "execution_count": 14,
   "id": "367b2004",
   "metadata": {},
   "outputs": [],
   "source": [
    "test_set_size = 10000  # Number of samples to include in the test set\n",
    "\n",
    "X_train, X_test, y_train, y_test = train_test_split(X, y, test_size=test_set_size, random_state=73)"
   ]
  },
  {
   "cell_type": "code",
   "execution_count": 15,
   "id": "e023424d",
   "metadata": {},
   "outputs": [],
   "source": [
    "X_train_array = [X_train[:, 0], X_train[:, 1]]\n",
    "X_test_array = [X_test[:, 0], X_test[:, 1]]"
   ]
  },
  {
   "cell_type": "code",
   "execution_count": 16,
   "id": "ff46fb3b",
   "metadata": {},
   "outputs": [
    {
     "data": {
      "text/plain": [
       "array([[248115,    548],\n",
       "       [269902,   5725],\n",
       "       [263594,     51],\n",
       "       ...,\n",
       "       [232635,   7542],\n",
       "       [110257,  13677],\n",
       "       [ 37291,   1537]], dtype=int64)"
      ]
     },
     "execution_count": 16,
     "metadata": {},
     "output_type": "execute_result"
    }
   ],
   "source": [
    "X_train"
   ]
  },
  {
   "cell_type": "code",
   "execution_count": 17,
   "id": "dfe3d66a",
   "metadata": {},
   "outputs": [],
   "source": [
    "from tensorflow.keras.layers import Input, Embedding, Dot, Flatten, Dense\n",
    "from tensorflow.keras.models import Model\n",
    "from tensorflow.keras.optimizers import Adam"
   ]
  },
  {
   "cell_type": "code",
   "execution_count": 18,
   "id": "4b71b434",
   "metadata": {},
   "outputs": [],
   "source": [
    "def RecommenderNet(num_users, num_animes, embedding_size=128):\n",
    "    # User input layer and embedding layer\n",
    "    user = Input(name='user_encoded', shape=[1])\n",
    "    user_embedding = Embedding(name='user_embedding', input_dim=num_users, output_dim=embedding_size)(user)\n",
    "    \n",
    "    # Anime input layer and embedding layer\n",
    "    anime = Input(name='anime_encoded', shape=[1])\n",
    "    anime_embedding = Embedding(name='anime_embedding', input_dim=num_animes, output_dim=embedding_size)(anime)\n",
    "    \n",
    "    # Dot product of user and anime embeddings\n",
    "    dot_product = Dot(name='dot_product', normalize=True, axes=2)([user_embedding, anime_embedding])\n",
    "    flattened = Flatten()(dot_product)\n",
    "    \n",
    "    # Dense layers for prediction\n",
    "    dense = Dense(64, activation='relu')(flattened)\n",
    "    output = Dense(1, activation='sigmoid')(dense)\n",
    "    \n",
    "    # Create and compile the model\n",
    "    model = Model(inputs=[user, anime], outputs=output)\n",
    "    model.compile(loss='binary_crossentropy', optimizer=Adam(learning_rate=0.001), metrics=[\"mae\", \"mse\"])\n",
    "    \n",
    "    return model\n"
   ]
  },
  {
   "cell_type": "code",
   "execution_count": 19,
   "id": "91a4d18e",
   "metadata": {},
   "outputs": [],
   "source": [
    "model = RecommenderNet(num_users, num_anime)"
   ]
  },
  {
   "cell_type": "code",
   "execution_count": 20,
   "id": "ba3fe13c",
   "metadata": {},
   "outputs": [
    {
     "name": "stdout",
     "output_type": "stream",
     "text": [
      "Model: \"model\"\n",
      "__________________________________________________________________________________________________\n",
      " Layer (type)                Output Shape                 Param #   Connected to                  \n",
      "==================================================================================================\n",
      " user_encoded (InputLayer)   [(None, 1)]                  0         []                            \n",
      "                                                                                                  \n",
      " anime_encoded (InputLayer)  [(None, 1)]                  0         []                            \n",
      "                                                                                                  \n",
      " user_embedding (Embedding)  (None, 1, 128)               3456422   ['user_encoded[0][0]']        \n",
      "                                                          4                                       \n",
      "                                                                                                  \n",
      " anime_embedding (Embedding  (None, 1, 128)               2112000   ['anime_encoded[0][0]']       \n",
      " )                                                                                                \n",
      "                                                                                                  \n",
      " dot_product (Dot)           (None, 1, 1)                 0         ['user_embedding[0][0]',      \n",
      "                                                                     'anime_embedding[0][0]']     \n",
      "                                                                                                  \n",
      " flatten (Flatten)           (None, 1)                    0         ['dot_product[0][0]']         \n",
      "                                                                                                  \n",
      " dense (Dense)               (None, 64)                   128       ['flatten[0][0]']             \n",
      "                                                                                                  \n",
      " dense_1 (Dense)             (None, 1)                    65        ['dense[0][0]']               \n",
      "                                                                                                  \n",
      "==================================================================================================\n",
      "Total params: 36676417 (139.91 MB)\n",
      "Trainable params: 36676417 (139.91 MB)\n",
      "Non-trainable params: 0 (0.00 Byte)\n",
      "__________________________________________________________________________________________________\n"
     ]
    }
   ],
   "source": [
    "model.summary()"
   ]
  },
  {
   "cell_type": "code",
   "execution_count": 21,
   "id": "743df411",
   "metadata": {},
   "outputs": [],
   "source": [
    "from tensorflow.keras.callbacks import ModelCheckpoint, LearningRateScheduler, EarlyStopping"
   ]
  },
  {
   "cell_type": "code",
   "execution_count": 22,
   "id": "2bf355ce",
   "metadata": {},
   "outputs": [],
   "source": [
    "start_lr = 0.00001\n",
    "min_lr = 0.00001\n",
    "max_lr = 0.00005\n",
    "batch_size = 10000\n",
    "\n",
    "rampup_epochs = 5\n",
    "sustain_epochs = 0\n",
    "exp_decay = .8\n",
    "\n",
    "def lrfn(epoch):\n",
    "    if epoch < rampup_epochs:\n",
    "        return (max_lr - start_lr) / rampup_epochs * epoch + start_lr\n",
    "    elif epoch < rampup_epochs + sustain_epochs:\n",
    "        return max_lr\n",
    "    else:\n",
    "        return (max_lr - min_lr) * exp_decay**(epoch - rampup_epochs - sustain_epochs) + min_lr\n",
    "    \n",
    "lr_callback = LearningRateScheduler(lambda epoch: lrfn(epoch), verbose=0)\n",
    "\n",
    "\n",
    "early_stopping = EarlyStopping(patience=3, monitor='val_loss', mode='min', restore_best_weights=True)\n",
    "\n",
    "my_callbacks = [lr_callback,\n",
    "                early_stopping]"
   ]
  },
  {
   "cell_type": "code",
   "execution_count": 23,
   "id": "19aed777",
   "metadata": {},
   "outputs": [
    {
     "name": "stdout",
     "output_type": "stream",
     "text": [
      "Epoch 1/20\n",
      "2432/2432 [==============================] - 1458s 598ms/step - loss: 0.6762 - mae: 0.2482 - mse: 0.0813 - val_loss: 0.6576 - val_mae: 0.2299 - val_mse: 0.0716 - lr: 1.0000e-05\n",
      "Epoch 2/20\n",
      "2432/2432 [==============================] - 1152s 473ms/step - loss: 0.6274 - mae: 0.2016 - mse: 0.0572 - val_loss: 0.6015 - val_mae: 0.1745 - val_mse: 0.0444 - lr: 1.8000e-05\n",
      "Epoch 3/20\n",
      "2432/2432 [==============================] - 1145s 471ms/step - loss: 0.5849 - mae: 0.1548 - mse: 0.0373 - val_loss: 0.5772 - val_mae: 0.1471 - val_mse: 0.0336 - lr: 2.6000e-05\n",
      "Epoch 4/20\n",
      "2432/2432 [==============================] - 1141s 469ms/step - loss: 0.5767 - mae: 0.1456 - mse: 0.0338 - val_loss: 0.5759 - val_mae: 0.1439 - val_mse: 0.0331 - lr: 3.4000e-05\n",
      "Epoch 5/20\n",
      "2432/2432 [==============================] - 1158s 476ms/step - loss: 0.5653 - mae: 0.1330 - mse: 0.0295 - val_loss: 0.5596 - val_mae: 0.1271 - val_mse: 0.0269 - lr: 4.2000e-05\n",
      "Epoch 6/20\n",
      "2432/2432 [==============================] - 1144s 470ms/step - loss: 0.5461 - mae: 0.1139 - mse: 0.0222 - val_loss: 0.5494 - val_mae: 0.1170 - val_mse: 0.0231 - lr: 5.0000e-05\n",
      "Epoch 7/20\n",
      "2432/2432 [==============================] - 1171s 482ms/step - loss: 0.5380 - mae: 0.1055 - mse: 0.0191 - val_loss: 0.5463 - val_mae: 0.1136 - val_mse: 0.0219 - lr: 4.2000e-05\n",
      "Epoch 8/20\n",
      "2432/2432 [==============================] - 1172s 482ms/step - loss: 0.5340 - mae: 0.1012 - mse: 0.0177 - val_loss: 0.5448 - val_mae: 0.1119 - val_mse: 0.0214 - lr: 3.5600e-05\n",
      "Epoch 9/20\n",
      "2432/2432 [==============================] - 1168s 480ms/step - loss: 0.5311 - mae: 0.0980 - mse: 0.0167 - val_loss: 0.5440 - val_mae: 0.1108 - val_mse: 0.0211 - lr: 3.0480e-05\n",
      "Epoch 10/20\n",
      "2432/2432 [==============================] - 1180s 485ms/step - loss: 0.5289 - mae: 0.0955 - mse: 0.0159 - val_loss: 0.5435 - val_mae: 0.1103 - val_mse: 0.0209 - lr: 2.6384e-05\n",
      "Epoch 11/20\n",
      "2432/2432 [==============================] - 1173s 482ms/step - loss: 0.5271 - mae: 0.0935 - mse: 0.0153 - val_loss: 0.5432 - val_mae: 0.1099 - val_mse: 0.0208 - lr: 2.3107e-05\n",
      "Epoch 12/20\n",
      "2432/2432 [==============================] - 1151s 473ms/step - loss: 0.5256 - mae: 0.0917 - mse: 0.0148 - val_loss: 0.5430 - val_mae: 0.1097 - val_mse: 0.0208 - lr: 2.0486e-05\n",
      "Epoch 13/20\n",
      "2432/2432 [==============================] - 1166s 480ms/step - loss: 0.5244 - mae: 0.0903 - mse: 0.0143 - val_loss: 0.5430 - val_mae: 0.1096 - val_mse: 0.0207 - lr: 1.8389e-05\n",
      "Epoch 14/20\n",
      "2432/2432 [==============================] - 1150s 473ms/step - loss: 0.5233 - mae: 0.0890 - mse: 0.0140 - val_loss: 0.5430 - val_mae: 0.1095 - val_mse: 0.0207 - lr: 1.6711e-05\n",
      "Epoch 15/20\n",
      "2432/2432 [==============================] - 1156s 475ms/step - loss: 0.5223 - mae: 0.0879 - mse: 0.0137 - val_loss: 0.5430 - val_mae: 0.1095 - val_mse: 0.0207 - lr: 1.5369e-05\n",
      "Epoch 16/20\n",
      "2432/2432 [==============================] - 1156s 475ms/step - loss: 0.5215 - mae: 0.0869 - mse: 0.0134 - val_loss: 0.5431 - val_mae: 0.1095 - val_mse: 0.0208 - lr: 1.4295e-05\n",
      "Epoch 17/20\n",
      "2432/2432 [==============================] - 1165s 479ms/step - loss: 0.5207 - mae: 0.0860 - mse: 0.0131 - val_loss: 0.5431 - val_mae: 0.1095 - val_mse: 0.0208 - lr: 1.3436e-05\n"
     ]
    }
   ],
   "source": [
    "history = model.fit(\n",
    "    x=X_train_array,\n",
    "    y=y_train,\n",
    "    batch_size=batch_size,\n",
    "    epochs=20,\n",
    "    verbose=1,\n",
    "    validation_data=(X_test_array, y_test),\n",
    "    callbacks=my_callbacks\n",
    ")"
   ]
  },
  {
   "cell_type": "code",
   "execution_count": 29,
   "id": "342dc672",
   "metadata": {},
   "outputs": [
    {
     "name": "stderr",
     "output_type": "stream",
     "text": [
      "C:\\Users\\Usuario\\miniconda3\\lib\\site-packages\\keras\\src\\engine\\training.py:3000: UserWarning: You are saving your model as an HDF5 file via `model.save()`. This file format is considered legacy. We recommend using instead the native Keras format, e.g. `model.save('my_model.keras')`.\n",
      "  saving_api.save_model(\n"
     ]
    }
   ],
   "source": [
    "model.save('myanimemodel.h5')"
   ]
  },
  {
   "cell_type": "code",
   "execution_count": null,
   "id": "b2155f89",
   "metadata": {},
   "outputs": [],
   "source": []
  }
 ],
 "metadata": {
  "kernelspec": {
   "display_name": "Python 3 (ipykernel)",
   "language": "python",
   "name": "python3"
  },
  "language_info": {
   "codemirror_mode": {
    "name": "ipython",
    "version": 3
   },
   "file_extension": ".py",
   "mimetype": "text/x-python",
   "name": "python",
   "nbconvert_exporter": "python",
   "pygments_lexer": "ipython3",
   "version": "3.10.9"
  }
 },
 "nbformat": 4,
 "nbformat_minor": 5
}
